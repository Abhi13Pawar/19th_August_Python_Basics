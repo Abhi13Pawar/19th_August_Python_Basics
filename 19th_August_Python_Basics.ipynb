{
 "cells": [
  {
   "cell_type": "markdown",
   "id": "fa246dac-6f8d-4c30-8b50-6adc4fd4a601",
   "metadata": {},
   "source": [
    "TOPIC: Python Basics Variable\n"
   ]
  },
  {
   "cell_type": "raw",
   "id": "43fc4b3c-f715-465e-82d6-f64c029047e9",
   "metadata": {},
   "source": [
    "1. Declare two variables, `x` and `y`, and assign them integer values. Swap the\n",
    "values of these variables without using any temporary variable."
   ]
  },
  {
   "cell_type": "code",
   "execution_count": 72,
   "id": "4270482e-103a-432c-bfcc-6a041d376507",
   "metadata": {},
   "outputs": [],
   "source": [
    "x= 10\n",
    "y=20"
   ]
  },
  {
   "cell_type": "code",
   "execution_count": 73,
   "id": "81bf0ef4-5e84-4cf9-af93-f23db7981e7c",
   "metadata": {},
   "outputs": [
    {
     "data": {
      "text/plain": [
       "10"
      ]
     },
     "execution_count": 73,
     "metadata": {},
     "output_type": "execute_result"
    }
   ],
   "source": [
    "x"
   ]
  },
  {
   "cell_type": "code",
   "execution_count": 74,
   "id": "ed82cdc9-f8b8-450e-a82f-cf1c647bd435",
   "metadata": {},
   "outputs": [
    {
     "data": {
      "text/plain": [
       "20"
      ]
     },
     "execution_count": 74,
     "metadata": {},
     "output_type": "execute_result"
    }
   ],
   "source": [
    "y"
   ]
  },
  {
   "cell_type": "raw",
   "id": "f449ac88-245b-422e-9593-06196a6be0f6",
   "metadata": {},
   "source": [
    "2. Create a program that calculates the area of a rectangle. Take the length and\n",
    "width as inputs from the user and store them in variables. Calculate and\n",
    "display the area."
   ]
  },
  {
   "cell_type": "code",
   "execution_count": 76,
   "id": "7e821a8d-931e-4daf-843a-8b5bbc7ccd6e",
   "metadata": {},
   "outputs": [
    {
     "name": "stdin",
     "output_type": "stream",
     "text": [
      "Length of rectangle: 5\n",
      "Wedth of rectangle: 4\n"
     ]
    },
    {
     "name": "stdout",
     "output_type": "stream",
     "text": [
      "area of rectangle is: 20.0\n"
     ]
    }
   ],
   "source": [
    "#Ask for length and Wedth to the user\n",
    "#convert this input from string to floatinmg value\n",
    "Length=float(input('Length of rectangle:'))\n",
    "Wedth=float(input('Wedth of rectangle:'))\n",
    " \n",
    "#calculate area of given measurment rectangle     \n",
    "area= Length*Wedth\n",
    "        \n",
    "#print area for given reactangle measurements     \n",
    "print('area of rectangle is:',area)\n"
   ]
  },
  {
   "cell_type": "raw",
   "id": "0c024b61-561d-446e-9d93-56c64fea8402",
   "metadata": {},
   "source": [
    "3. Write a Python program that converts temperatures from Celsius to\n",
    "Fahrenheit. Take the temperature in Celsius as input, store it in a variable,\n",
    "convert it to Fahrenheit, and display the result."
   ]
  },
  {
   "cell_type": "code",
   "execution_count": 77,
   "id": "89593228-98ac-4416-9d21-8057bfd2db2f",
   "metadata": {},
   "outputs": [
    {
     "name": "stdin",
     "output_type": "stream",
     "text": [
      "Temperature in Celsius is: 10\n"
     ]
    },
    {
     "name": "stdout",
     "output_type": "stream",
     "text": [
      "Temperature in Fehrenheit is: 50.0\n"
     ]
    }
   ],
   "source": [
    "#take a inputs from user in celsius\n",
    "#convert this iputs from string to float\n",
    "Celcius=float(input(\"Temperature in Celsius is:\"))\n",
    "\n",
    "#apply formula to convert Celcius to Fehrenheit               \n",
    "Fahrenheit= (Celcius*9/5)+32\n",
    "\n",
    "#Print Temperature in Fehrenheit               \n",
    "print(\"Temperature in Fehrenheit is:\", Fahrenheit)\n",
    "\n",
    "\n"
   ]
  },
  {
   "cell_type": "markdown",
   "id": "bc3a2f33-d42b-4ad4-9e26-a3577430cfec",
   "metadata": {},
   "source": [
    "*************************************************************************"
   ]
  },
  {
   "cell_type": "markdown",
   "id": "f7cfe339-8915-4099-9b69-21ab74f886a3",
   "metadata": {},
   "source": [
    "TOPIC: String Based Questions"
   ]
  },
  {
   "cell_type": "raw",
   "id": "ec0462f5-d920-465e-94ca-879beef0f86a",
   "metadata": {},
   "source": [
    "1. Write a Python program that takes a string as input and prints the length of\n",
    "the string."
   ]
  },
  {
   "cell_type": "code",
   "execution_count": 80,
   "id": "6fb3bae9-a86c-4480-85bb-adfbd65526a2",
   "metadata": {},
   "outputs": [
    {
     "name": "stdin",
     "output_type": "stream",
     "text": [
      "Write a string: abhishek pawar\n"
     ]
    },
    {
     "name": "stdout",
     "output_type": "stream",
     "text": [
      "length of the input is: 14\n"
     ]
    }
   ],
   "source": [
    "a= input(\"Write a string:\")\n",
    "\n",
    "length= len(a)\n",
    "\n",
    "print('length of the input is:',length)"
   ]
  },
  {
   "cell_type": "raw",
   "id": "49a9ebbb-4877-4caa-aeaa-ae28dda52c0d",
   "metadata": {},
   "source": [
    "2. Create a program that takes a sentence from the user and counts the number\n",
    "of vowels (a, e, i, o, u) in the string."
   ]
  },
  {
   "cell_type": "code",
   "execution_count": 81,
   "id": "c931552a-a656-47ba-92af-b90e211ccd68",
   "metadata": {},
   "outputs": [
    {
     "name": "stdin",
     "output_type": "stream",
     "text": [
      "Write your sentence my name is abhishek PAWAR\n"
     ]
    },
    {
     "name": "stdout",
     "output_type": "stream",
     "text": [
      "Total vowels are presnt in sentence are: 8\n"
     ]
    }
   ],
   "source": [
    "#take a sentence from user\n",
    "sentence= input('Write your sentence')\n",
    "\n",
    "#lower the all characters of given sentence\n",
    "sentence= sentence.lower()\n",
    "\n",
    "#inital vowel count we have to take as 0\n",
    "vowel_count= 0\n",
    "\n",
    "#use for-loop for counting vowels in sentence\n",
    "for char in sentence:\n",
    "    if char in'aeiou':\n",
    "        vowel_count+=1\n",
    "      \n",
    "#print the final count of the vowels in the sentence     \n",
    "print('Total vowels are presnt in sentence are:', vowel_count)\n",
    "    "
   ]
  },
  {
   "cell_type": "raw",
   "id": "7a74f6d0-5648-44b6-a796-770abbc1d010",
   "metadata": {},
   "source": [
    "3. Given a string, reverse the order of characters using string slicing and print\n",
    "the reversed string."
   ]
  },
  {
   "cell_type": "code",
   "execution_count": 48,
   "id": "24dbd624-3b27-49e1-8fbb-40684939bdb7",
   "metadata": {},
   "outputs": [],
   "source": [
    "a= 'abhishek'"
   ]
  },
  {
   "cell_type": "code",
   "execution_count": 50,
   "id": "dd4aa4b8-458a-47b5-a8ec-5b3ea93e07ab",
   "metadata": {},
   "outputs": [
    {
     "data": {
      "text/plain": [
       "'kehsihba'"
      ]
     },
     "execution_count": 50,
     "metadata": {},
     "output_type": "execute_result"
    }
   ],
   "source": [
    "#reverse the string by different methods\n",
    "#method-1\n",
    "a[::-1]"
   ]
  },
  {
   "cell_type": "code",
   "execution_count": 52,
   "id": "eb11baa7-041b-47c6-b310-4fe4df29dfd8",
   "metadata": {},
   "outputs": [
    {
     "data": {
      "text/plain": [
       "'kehsihba'"
      ]
     },
     "execution_count": 52,
     "metadata": {},
     "output_type": "execute_result"
    }
   ],
   "source": [
    "#method-2\n",
    "a[-1:-10:-1]"
   ]
  },
  {
   "cell_type": "code",
   "execution_count": 57,
   "id": "f9e078a5-fa83-408a-b60b-8da12cd4b130",
   "metadata": {},
   "outputs": [
    {
     "data": {
      "text/plain": [
       "'kehsihba'"
      ]
     },
     "execution_count": 57,
     "metadata": {},
     "output_type": "execute_result"
    }
   ],
   "source": [
    "#method-3\n",
    "a[9::-1]"
   ]
  },
  {
   "cell_type": "raw",
   "id": "2859719c-e7a5-471f-a8ed-1f8b62da7add",
   "metadata": {},
   "source": [
    "4. Write a program that takes a string as input and checks if it is a palindrome\n",
    "(reads the same forwards and backwards)."
   ]
  },
  {
   "cell_type": "code",
   "execution_count": 66,
   "id": "c974f177-04f2-449f-b5a8-be839fb17a36",
   "metadata": {},
   "outputs": [
    {
     "name": "stdin",
     "output_type": "stream",
     "text": [
      "Write your word: abhishek\n"
     ]
    },
    {
     "name": "stdout",
     "output_type": "stream",
     "text": [
      "this is not a Palindrome\n"
     ]
    }
   ],
   "source": [
    "#take a word from user\n",
    "word=input('Write your word:')\n",
    "\n",
    "#reverse the word\n",
    "reverse_the_word=word[::-1]\n",
    "\n",
    "#use if else\n",
    "if word == reverse_the_word:\n",
    "   print('This is Palindrome')\n",
    "else:\n",
    "   print('this is not a Palindrome')"
   ]
  },
  {
   "cell_type": "raw",
   "id": "4e52e20f-d64c-478b-91b8-94f24d0e938f",
   "metadata": {},
   "source": [
    "5. Create a program that takes a string as input and removes all the spaces from\n",
    "it. Print the modified string without spaces."
   ]
  },
  {
   "cell_type": "code",
   "execution_count": 71,
   "id": "9c6ecf4c-d58f-4993-979f-2fc06fe05ec1",
   "metadata": {},
   "outputs": [
    {
     "name": "stdin",
     "output_type": "stream",
     "text": [
      "give your input abhishek pawar is my name     and\n"
     ]
    },
    {
     "name": "stdout",
     "output_type": "stream",
     "text": [
      "modified input without space: abhishekpawarismynameand\n"
     ]
    }
   ],
   "source": [
    "a= input('give your input')\n",
    "\n",
    "without_space= a.replace(' ','')\n",
    "\n",
    "print('modified input without space:',without_space)\n",
    "\n"
   ]
  },
  {
   "cell_type": "code",
   "execution_count": null,
   "id": "5d31e5a4-cb15-47e7-ae58-35587658accc",
   "metadata": {},
   "outputs": [],
   "source": []
  },
  {
   "cell_type": "code",
   "execution_count": null,
   "id": "af0d64fa-1331-4519-89ee-a6f524fe8122",
   "metadata": {},
   "outputs": [],
   "source": []
  }
 ],
 "metadata": {
  "kernelspec": {
   "display_name": "Python 3 (ipykernel)",
   "language": "python",
   "name": "python3"
  },
  "language_info": {
   "codemirror_mode": {
    "name": "ipython",
    "version": 3
   },
   "file_extension": ".py",
   "mimetype": "text/x-python",
   "name": "python",
   "nbconvert_exporter": "python",
   "pygments_lexer": "ipython3",
   "version": "3.10.8"
  }
 },
 "nbformat": 4,
 "nbformat_minor": 5
}
